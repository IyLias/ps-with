{
  "nbformat": 4,
  "nbformat_minor": 0,
  "metadata": {
    "colab": {
      "name": "Q1541.ipynb",
      "provenance": []
    },
    "kernelspec": {
      "name": "python3",
      "display_name": "Python 3"
    },
    "language_info": {
      "name": "python"
    }
  },
  "cells": [
    {
      "cell_type": "code",
      "execution_count": 28,
      "metadata": {
        "colab": {
          "base_uri": "https://localhost:8080/"
        },
        "id": "J8dP3BmT3q9T",
        "outputId": "387bebeb-28dd-43be-c777-978065728e5f"
      },
      "outputs": [
        {
          "output_type": "stream",
          "name": "stdout",
          "text": [
            "9-4606+4-2-44-3-5442+2453+9-55\n",
            "9-(4606+4)-(2)-(44)-(3)-(5442+2453+9)-(55)\n",
            "-12609\n"
          ]
        }
      ],
      "source": [
        "\n",
        "expression = input(\"\")\n",
        "min_expression = ''\n",
        "\n",
        "temp_num=''\n",
        "open_flag = False\n",
        "for l in expression:\n",
        "  if l == '-' or l == '+':\n",
        "    min_expression+=str(int(temp_num))\n",
        "    temp_num=''\n",
        "    if l == '-':\n",
        "      if open_flag == False:\n",
        "        min_expression+=l\n",
        "        open_flag = True\n",
        "        min_expression+='('\n",
        "      else:\n",
        "        min_expression+=')'\n",
        "        min_expression+=l\n",
        "        min_expression+='('\n",
        "\n",
        "    elif l == '+':\n",
        "      min_expression+=l\n",
        "  else:\n",
        "    temp_num+=l\n",
        "\n",
        "if temp_num != '':\n",
        "  min_expression+=str(int(temp_num))\n",
        "\n",
        "if open_flag == True:\n",
        "  min_expression+=')'\n",
        "\n",
        "print(min_expression)\n",
        "print(eval(min_expression))"
      ]
    },
    {
      "cell_type": "code",
      "source": [
        "print(eval('55-(50)+40'))"
      ],
      "metadata": {
        "id": "A503zfMc_8GX",
        "outputId": "1b427bb1-e05c-4844-e57e-4b4d8da9e75b",
        "colab": {
          "base_uri": "https://localhost:8080/"
        }
      },
      "execution_count": 15,
      "outputs": [
        {
          "output_type": "stream",
          "name": "stdout",
          "text": [
            "45\n"
          ]
        }
      ]
    }
  ]
}